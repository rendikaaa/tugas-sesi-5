{
 "cells": [
  {
   "cell_type": "code",
   "execution_count": null,
   "id": "b9d52842",
   "metadata": {},
   "outputs": [],
   "source": [
    "# 1.\tBuatlah biodata sederhana dengan menggunakan fungsi input(), dan output variabel dengan fungsi format()."
   ]
  },
  {
   "cell_type": "code",
   "execution_count": 5,
   "id": "8660460f",
   "metadata": {},
   "outputs": [
    {
     "name": "stdout",
     "output_type": "stream",
     "text": [
      "biodata mahasiswa\n",
      "masukan nama anda = rendika febrian\n",
      "masukan kelas anda = ti 22 h\n",
      "masukan nim anda = 20220040033\n",
      "masukan prodi anda = teknik informatika\n",
      "Nama Saya rendika febrian kelas ti 22 h nim 20220040033 prodi teknik informatika\n"
     ]
    }
   ],
   "source": [
    "print(\"biodata mahasiswa\")\n",
    "nama=input(\"masukan nama anda = \")\n",
    "kelas=input(\"masukan kelas anda = \")\n",
    "nim=input(\"masukan nim anda = \")\n",
    "prodi=input(\"masukan prodi anda = \") \n",
    "\n",
    "print(f\"Nama Saya {nama} kelas {kelas} nim {nim} prodi {prodi}\")"
   ]
  },
  {
   "cell_type": "code",
   "execution_count": null,
   "id": "91b6ae90",
   "metadata": {},
   "outputs": [],
   "source": []
  }
 ],
 "metadata": {
  "kernelspec": {
   "display_name": "Python 3 (ipykernel)",
   "language": "python",
   "name": "python3"
  },
  "language_info": {
   "codemirror_mode": {
    "name": "ipython",
    "version": 3
   },
   "file_extension": ".py",
   "mimetype": "text/x-python",
   "name": "python",
   "nbconvert_exporter": "python",
   "pygments_lexer": "ipython3",
   "version": "3.9.12"
  }
 },
 "nbformat": 4,
 "nbformat_minor": 5
}
