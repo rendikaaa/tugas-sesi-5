{
 "cells": [
  {
   "cell_type": "code",
   "execution_count": 2,
   "id": "0a4c7437",
   "metadata": {},
   "outputs": [],
   "source": [
    "# \tJika terdapat kalimat UNIVERSITAS NUSA PUTRA SUKABUMI ,buatlah kode program untuk menampilkan output:\n",
    "# a.\tputra nusa\n",
    "# b.\tNIVERSITAS NSA PTRA SKABMI\n",
    "# c.\tSUKABUMI PUTRA NUSA UNIVERSITAS\n",
    "# d.\tUNPS\n",
    "# e.\tTAS SAPU BUMI\n"
   ]
  },
  {
   "cell_type": "code",
   "execution_count": 29,
   "id": "565fccd2",
   "metadata": {},
   "outputs": [
    {
     "name": "stdout",
     "output_type": "stream",
     "text": [
      "putra nusa\n",
      "NIVERSITAS NSA PTRA\n",
      "SUKABUMI PUTRA NUSA UNIVERSITAS\n",
      "UNPS\n",
      "TAS SAPU BUMI\n"
     ]
    }
   ],
   "source": [
    "nama = \"UNIVERSITAS NUSA PUTRA SUKABUMI\"\n",
    "\n",
    "print(nama[17:22].lower(),nama[12:16].lower())\n",
    "print(nama[1:11],nama[12]+nama[14:16],nama[17]+nama[19:22])\n",
    "print(nama[23:31],nama[17:22],nama[12:16],nama[:11])\n",
    "print(nama[0]+nama[12]+nama[17]+nama[23])\n",
    "print(nama[8:11],nama[14:16]+nama[17:19],nama[27:31])"
   ]
  }
 ],
 "metadata": {
  "kernelspec": {
   "display_name": "Python 3 (ipykernel)",
   "language": "python",
   "name": "python3"
  },
  "language_info": {
   "codemirror_mode": {
    "name": "ipython",
    "version": 3
   },
   "file_extension": ".py",
   "mimetype": "text/x-python",
   "name": "python",
   "nbconvert_exporter": "python",
   "pygments_lexer": "ipython3",
   "version": "3.9.12"
  }
 },
 "nbformat": 4,
 "nbformat_minor": 5
}
